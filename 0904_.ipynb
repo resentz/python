{
 "cells": [
  {
   "cell_type": "code",
   "execution_count": 1,
   "metadata": {},
   "outputs": [
    {
     "name": "stdout",
     "output_type": "stream",
     "text": [
      "1\n"
     ]
    }
   ],
   "source": [
    "print(10%3)"
   ]
  },
  {
   "cell_type": "code",
   "execution_count": 2,
   "metadata": {},
   "outputs": [
    {
     "name": "stdout",
     "output_type": "stream",
     "text": [
      "0\n",
      "0\n"
     ]
    }
   ],
   "source": [
    "print(9%3)\n",
    "print(6%6)"
   ]
  },
  {
   "cell_type": "code",
   "execution_count": 4,
   "metadata": {},
   "outputs": [
    {
     "data": {
      "text/plain": [
       "True"
      ]
     },
     "execution_count": 4,
     "metadata": {},
     "output_type": "execute_result"
    }
   ],
   "source": [
    "'cat' <= 'dog'"
   ]
  },
  {
   "cell_type": "code",
   "execution_count": 5,
   "metadata": {},
   "outputs": [
    {
     "name": "stdout",
     "output_type": "stream",
     "text": [
      "False\n",
      "False\n"
     ]
    }
   ],
   "source": [
    "x=\"hell0\"\n",
    "y=\"python\"\n",
    "print(\"hi\" in x)\n",
    "print(\"py\" not in y)"
   ]
  },
  {
   "cell_type": "code",
   "execution_count": 6,
   "metadata": {},
   "outputs": [
    {
     "name": "stdout",
     "output_type": "stream",
     "text": [
      "False\n",
      "True\n",
      "True\n",
      "True\n",
      "False\n",
      "False\n"
     ]
    }
   ],
   "source": [
    "a = 1\n",
    "b = 2\n",
    "c = 1\n",
    "d = a\n",
    "print(a is b)\n",
    "print(a is c)\n",
    "print(a is d)\n",
    "\n",
    "print(a is not b)\n",
    "print(a is not c)\n",
    "print(a is not d)"
   ]
  },
  {
   "cell_type": "code",
   "execution_count": 7,
   "metadata": {},
   "outputs": [
    {
     "name": "stdout",
     "output_type": "stream",
     "text": [
      "140707107672872\n",
      "140707107672904\n",
      "140707107672872\n",
      "140707107672872\n"
     ]
    }
   ],
   "source": [
    "a = 1\n",
    "b = 2\n",
    "c = 1\n",
    "d = a\n",
    "\n",
    "print(id(a))\n",
    "print(id(b))\n",
    "print(id(c))\n",
    "print(id(d))"
   ]
  },
  {
   "cell_type": "code",
   "execution_count": 9,
   "metadata": {},
   "outputs": [
    {
     "name": "stdout",
     "output_type": "stream",
     "text": [
      "8\n"
     ]
    }
   ],
   "source": [
    "a = 2\n",
    "a = a**3\n",
    "print(a)"
   ]
  },
  {
   "cell_type": "code",
   "execution_count": 11,
   "metadata": {},
   "outputs": [
    {
     "name": "stdout",
     "output_type": "stream",
     "text": [
      "8\n"
     ]
    }
   ],
   "source": [
    "b=2\n",
    "b **=3\n",
    "print(b)"
   ]
  },
  {
   "cell_type": "code",
   "execution_count": 13,
   "metadata": {},
   "outputs": [
    {
     "name": "stdout",
     "output_type": "stream",
     "text": [
      " x는 10 보다 큽니다\n"
     ]
    }
   ],
   "source": [
    "x=int(input(\"숫자입력:\"))\n",
    "if x > 10 :\n",
    "    print(\" x는 10 보다 큽니다\")\n"
   ]
  },
  {
   "cell_type": "code",
   "execution_count": 14,
   "metadata": {},
   "outputs": [
    {
     "name": "stdout",
     "output_type": "stream",
     "text": [
      "성인 입니다\n"
     ]
    }
   ],
   "source": [
    "x=int(input(\"나이 입력:\"))\n",
    "if x >=19 :\n",
    "    print(\"성인 입니다\")\n",
    "else :\n",
    "    print('성인이 아닙니다')"
   ]
  },
  {
   "cell_type": "code",
   "execution_count": 16,
   "metadata": {},
   "outputs": [
    {
     "name": "stdout",
     "output_type": "stream",
     "text": [
      "B\n"
     ]
    }
   ],
   "source": [
    "score = int(input(\"성적입력\"))\n",
    "\n",
    "if score >= 90:\n",
    "    print(\"A\")\n",
    "elif score >= 80:\n",
    "    print(\"B\")\n",
    "elif score >= 70:\n",
    "    print(\"C\")\n",
    "elif score >= 60:\n",
    "    print(\"D\")\n",
    "else :\n",
    "    print(\"F\")"
   ]
  },
  {
   "cell_type": "code",
   "execution_count": 17,
   "metadata": {},
   "outputs": [
    {
     "name": "stdout",
     "output_type": "stream",
     "text": [
      "역삼역 는 회문이다\n"
     ]
    }
   ],
   "source": [
    "a = input('문자열 입력 : ')\n",
    "print(a,\"는 회문이다\" if a==a[::-1] else \"는 회문이 아니다\") "
   ]
  },
  {
   "cell_type": "code",
   "execution_count": 18,
   "metadata": {},
   "outputs": [
    {
     "name": "stdout",
     "output_type": "stream",
     "text": [
      "딩동댕 잘했어요\n"
     ]
    }
   ],
   "source": [
    "ans = input(\"'사자'의 영어 단어는 무엇일까요?:\")\n",
    "result = \"땡 틀렸습니다\"\n",
    "if ans==\"lion\":\n",
    "    result=\"딩동댕 잘했어요\"\n",
    "print(result)"
   ]
  },
  {
   "cell_type": "code",
   "execution_count": 21,
   "metadata": {},
   "outputs": [
    {
     "name": "stdout",
     "output_type": "stream",
     "text": [
      "300는 200와 500사이에 있다\n"
     ]
    }
   ],
   "source": [
    "x = int(input(\"시작수는?\"))\n",
    "y = int(input(\"끝 수는?\"))\n",
    "z = int(input(\"정수 입력\"))\n",
    "\n",
    "if x < z and z < y :\n",
    "    print(\"%d는 %d와 %d사이에 있다\" %(z,x,y))\n",
    "else:\n",
    "    print(\"%d는 %d와 %d사이에 없다\" %(z,x,y))\n",
    "\n",
    "\n",
    "\n"
   ]
  },
  {
   "cell_type": "code",
   "execution_count": 23,
   "metadata": {},
   "outputs": [
    {
     "name": "stdout",
     "output_type": "stream",
     "text": [
      "잘못 입력했습니다\n"
     ]
    }
   ],
   "source": [
    "m = int(input(\"월 입력\"))\n",
    "if m==3 or m==4 or m==5:\n",
    "    print(\"%d는 봄 입니다\" %m)\n",
    "elif m==6 or m==7 or m==8:\n",
    "    print(\"%d는 여름 입니다\" %m)\n",
    "elif m==9 or m==10 or m==11:\n",
    "    print(\"%d는 가을 입니다\" %m)\n",
    "elif m==12 or m==1 or m==2:\n",
    "    print(\"%d는 겨울 입니다\" %m)\n",
    "else :\n",
    "    print(\"잘못 입력했습니다\")"
   ]
  },
  {
   "cell_type": "code",
   "execution_count": 28,
   "metadata": {},
   "outputs": [
    {
     "name": "stdout",
     "output_type": "stream",
     "text": [
      "여성입니다\n"
     ]
    }
   ],
   "source": [
    "m = int(input(\"주민번호 뒷자리 입력\"))\n",
    "if m==1 or m==3 :\n",
    "    print(\"남성입니다\")\n",
    "elif m==2 or m==4 :\n",
    "    print(\"여성입니다\")\n",
    "else:\n",
    "    print(\"잘못입력했습니다\")"
   ]
  },
  {
   "cell_type": "code",
   "execution_count": 29,
   "metadata": {},
   "outputs": [
    {
     "name": "stdout",
     "output_type": "stream",
     "text": [
      "[1, 2, 3, 4, 5]\n"
     ]
    }
   ],
   "source": [
    "number_list = [1,2,3,4,5]\n",
    "print(number_list)"
   ]
  },
  {
   "cell_type": "code",
   "execution_count": 30,
   "metadata": {},
   "outputs": [
    {
     "name": "stdout",
     "output_type": "stream",
     "text": [
      "['cat', 'dog', 'bear', 'apple']\n"
     ]
    }
   ],
   "source": [
    "string_list = [\"cat\",\"dog\",\"bear\",\"apple\"]\n",
    "print(string_list)"
   ]
  },
  {
   "cell_type": "code",
   "execution_count": 32,
   "metadata": {},
   "outputs": [
    {
     "name": "stdout",
     "output_type": "stream",
     "text": [
      "['h', 'e', 'l', 'l', 'o']\n"
     ]
    }
   ],
   "source": [
    "my_string = \"hello\"\n",
    "string_list = list(my_string)\n",
    "print(string_list)"
   ]
  },
  {
   "cell_type": "code",
   "execution_count": 33,
   "metadata": {},
   "outputs": [
    {
     "name": "stdout",
     "output_type": "stream",
     "text": [
      "[1, 2, 3, 4, 5]\n"
     ]
    }
   ],
   "source": [
    "my_range=range(1,6)\n",
    "range_list=list(my_range)\n",
    "print(range_list)"
   ]
  },
  {
   "cell_type": "code",
   "execution_count": null,
   "metadata": {},
   "outputs": [],
   "source": []
  }
 ],
 "metadata": {
  "kernelspec": {
   "display_name": "base",
   "language": "python",
   "name": "python3"
  },
  "language_info": {
   "codemirror_mode": {
    "name": "ipython",
    "version": 3
   },
   "file_extension": ".py",
   "mimetype": "text/x-python",
   "name": "python",
   "nbconvert_exporter": "python",
   "pygments_lexer": "ipython3",
   "version": "3.11.5"
  }
 },
 "nbformat": 4,
 "nbformat_minor": 2
}
