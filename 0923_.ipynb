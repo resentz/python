{
 "cells": [
  {
   "cell_type": "code",
   "execution_count": 5,
   "metadata": {},
   "outputs": [
    {
     "name": "stdout",
     "output_type": "stream",
     "text": [
      "hello\n"
     ]
    }
   ],
   "source": [
    "def hello():\n",
    "    print(\"hello\")\n",
    "\n",
    "hello()"
   ]
  },
  {
   "cell_type": "code",
   "execution_count": 8,
   "metadata": {},
   "outputs": [
    {
     "name": "stdout",
     "output_type": "stream",
     "text": [
      "짝수\n"
     ]
    }
   ],
   "source": [
    "def even_odd(n):\n",
    "    if n % 2 == 0:\n",
    "        print(\"짝수\")\n",
    "    else:\n",
    "        print(\"홀수\")\n",
    "even_odd(10)"
   ]
  },
  {
   "cell_type": "code",
   "execution_count": 12,
   "metadata": {},
   "outputs": [
    {
     "name": "stdout",
     "output_type": "stream",
     "text": [
      "   *\n",
      "  ***\n",
      " *****\n",
      "*******\n",
      "      *\n",
      "     ***\n",
      "    *****\n",
      "   *******\n",
      "  *********\n",
      " ***********\n",
      "*************\n"
     ]
    }
   ],
   "source": [
    "def pyramid(n):\n",
    "    for a in range(n):\n",
    "        for b in range(n-(a+1)): # 4-(0+1):3 공백\n",
    "            print(\" \", end = \"\")\n",
    "        for c in range(2*a+1): #2*0+1=1:별찍힘\n",
    "            print(\"*\",end=\"\")\n",
    "        print()\n",
    "\n",
    "pyramid(4)\n",
    "pyramid(7)\n"
   ]
  },
  {
   "cell_type": "code",
   "execution_count": 13,
   "metadata": {},
   "outputs": [
    {
     "name": "stdout",
     "output_type": "stream",
     "text": [
      "원의면적: 314.0, 원주의 길이: 62.8\n"
     ]
    }
   ],
   "source": [
    "def cir_area():\n",
    "    global r\n",
    "    result = r*r*3.14\n",
    "    return result\n",
    "\n",
    "def cir_length():\n",
    "    global r\n",
    "    result = 2*3.14*r\n",
    "    return result\n",
    "r = float(input(\"반지름을 입력하세요\"))\n",
    "area = cir_area()\n",
    "length =cir_length()\n",
    "\n",
    "print(\"원의면적: %.1f, 원주의 길이: %.1f\"%(area,length))"
   ]
  },
  {
   "cell_type": "code",
   "execution_count": 14,
   "metadata": {},
   "outputs": [
    {
     "name": "stdout",
     "output_type": "stream",
     "text": [
      "30\n",
      "15\n"
     ]
    }
   ],
   "source": [
    "def sum(a,b=5): #디폴트 매개변수\n",
    "    return a+b \n",
    "print(sum(10,20))\n",
    "print(sum(10\n",
    "          ))"
   ]
  },
  {
   "cell_type": "code",
   "execution_count": 19,
   "metadata": {},
   "outputs": [
    {
     "name": "stdout",
     "output_type": "stream",
     "text": [
      "[0, 1, 4, 9, 16, 25, 36, 49, 64, 81]\n"
     ]
    }
   ],
   "source": [
    "lst = []\n",
    "for k in range(10):\n",
    "    lst.append(k*k)\n",
    "\n",
    "print(lst)"
   ]
  },
  {
   "cell_type": "code",
   "execution_count": 20,
   "metadata": {},
   "outputs": [
    {
     "name": "stdout",
     "output_type": "stream",
     "text": [
      "람다식 [0, 1, 4, 9, 16, 25, 36, 49, 64, 81]\n"
     ]
    }
   ],
   "source": [
    "#람다식\n",
    "lst2 = [k*k for k in range(10)]\n",
    "print(\"람다식\",lst2) # 함수명 숫자는 뒤에"
   ]
  },
  {
   "cell_type": "code",
   "execution_count": 21,
   "metadata": {},
   "outputs": [
    {
     "name": "stdout",
     "output_type": "stream",
     "text": [
      "3\n",
      "3\n"
     ]
    }
   ],
   "source": [
    "def adder1(a,b):\n",
    "    return a+b\n",
    "\n",
    "adder2=lambda a,b:a+b\n",
    "\n",
    "print(adder1(1,2))\n",
    "print(adder2(1,2))"
   ]
  },
  {
   "cell_type": "code",
   "execution_count": 25,
   "metadata": {},
   "outputs": [
    {
     "name": "stdout",
     "output_type": "stream",
     "text": [
      "[1, 4, 9, 16, 25]\n",
      "[1, 4, 9, 16, 25]\n"
     ]
    }
   ],
   "source": [
    "#1에서 5 까지의 제곱근을 구해라\n",
    "lst = [(lambda x : x**2)(a) for a in range(1,6)]\n",
    "print(lst)\n",
    "\n",
    "lst=[]\n",
    "f = lambda x : x**2\n",
    "for a in range(1,6):\n",
    "    lst.append(f(a))\n",
    "print(lst)"
   ]
  },
  {
   "cell_type": "code",
   "execution_count": 28,
   "metadata": {},
   "outputs": [
    {
     "name": "stdout",
     "output_type": "stream",
     "text": [
      "30 킬로미터는 30.00 마일이다\n"
     ]
    }
   ],
   "source": [
    "def  k_mile(n):\n",
    "    result=n*0.621371\n",
    "    return result\n",
    "\n",
    "n=int(input(\"킬로미터를 입력하시오\"))\n",
    "\n",
    "print(\"%d 킬로미터는 %.2f 마일이다\" %(n,n))"
   ]
  },
  {
   "cell_type": "code",
   "execution_count": 2,
   "metadata": {},
   "outputs": [
    {
     "ename": "SyntaxError",
     "evalue": "incomplete input (1224257406.py, line 13)",
     "output_type": "error",
     "traceback": [
      "\u001b[1;36m  Cell \u001b[1;32mIn[2], line 13\u001b[1;36m\u001b[0m\n\u001b[1;33m    print(\"%s 에 포함된 %s 의 개수는 %d이다\" %(test,char,eng_al(test,char))\u001b[0m\n\u001b[1;37m                                                                 ^\u001b[0m\n\u001b[1;31mSyntaxError\u001b[0m\u001b[1;31m:\u001b[0m incomplete input\n"
     ]
    }
   ],
   "source": [
    "def eng_al(n,b):\n",
    "    counter=0\n",
    "    for i in n:\n",
    "        if i==b:\n",
    "            counter +=1\n",
    "    return counter\n",
    "        \n",
    "\n",
    "\n",
    "test=input(\"영어 문장을 입력하세요\")\n",
    "char =input(\"알파벳 하나를 입력하시오\")\n",
    "num_char = count_sen(test,char)\n",
    "\n",
    "print(\"%s 에 포함된 %s 의 개수는 %d이다\" %(test,char,eng_al(test,char))"
   ]
  },
  {
   "cell_type": "code",
   "execution_count": 1,
   "metadata": {},
   "outputs": [
    {
     "name": "stdout",
     "output_type": "stream",
     "text": [
      "i am a student 에 포함된 a 의 개수는 2이다\n"
     ]
    }
   ],
   "source": [
    "def count_sen(string,x):\n",
    "    count=0\n",
    "    for i in string:\n",
    "        if i==x:\n",
    "            count = count+ 1\n",
    "    return count\n",
    "        \n",
    "\n",
    "\n",
    "test=input(\"영어 문장을 입력하세요\")\n",
    "char =input(\"알파벳 하나를 입력하시오\")\n",
    "num_char = count_sen(test,char)\n",
    "\n",
    "print(\"%s 에 포함된 %s 의 개수는 %d이다\" %(test,char,num_char))"
   ]
  },
  {
   "cell_type": "code",
   "execution_count": null,
   "metadata": {},
   "outputs": [],
   "source": []
  }
 ],
 "metadata": {
  "kernelspec": {
   "display_name": "base",
   "language": "python",
   "name": "python3"
  },
  "language_info": {
   "codemirror_mode": {
    "name": "ipython",
    "version": 3
   },
   "file_extension": ".py",
   "mimetype": "text/x-python",
   "name": "python",
   "nbconvert_exporter": "python",
   "pygments_lexer": "ipython3",
   "version": "3.11.5"
  }
 },
 "nbformat": 4,
 "nbformat_minor": 2
}
