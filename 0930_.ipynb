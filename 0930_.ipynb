{
 "cells": [
  {
   "cell_type": "markdown",
   "metadata": {},
   "source": [
    "객체지향 프로그래밍\n",
    "클래스 속성\n",
    "인스턴스 속성\n",
    "다음 = 상속"
   ]
  },
  {
   "cell_type": "code",
   "execution_count": 14,
   "metadata": {},
   "outputs": [
    {
     "name": "stdout",
     "output_type": "stream",
     "text": [
      "안녕하세요\n"
     ]
    }
   ],
   "source": [
    "class Person:\n",
    "    def hello(self):\n",
    "        print(\"안녕하세요\")\n",
    "\n",
    "Person1 = Person()\n",
    "\n",
    "Person1.hello()"
   ]
  },
  {
   "cell_type": "code",
   "execution_count": 15,
   "metadata": {},
   "outputs": [
    {
     "name": "stdout",
     "output_type": "stream",
     "text": [
      "김토끼님 Happy new year\n",
      "홍길동님 Happy new year\n",
      "로봇님 Happy new year\n",
      "코딩님 Happy new year\n"
     ]
    }
   ],
   "source": [
    "class Person:\n",
    "    name = \"김토끼\" #속성\n",
    "    def hello(self0):\n",
    "        print(Person.name + \"님 Happy new year\")#P의 속성값\n",
    "\n",
    "Person1=Person()\n",
    "Person1.hello() \n",
    "\n",
    "Person.name = \"홍길동\" #Person의 속성값 변경\n",
    "Person1.hello() #메소드 호출\n",
    "\n",
    "Person.name = \"로봇\"\n",
    "Person1.hello() \n",
    "\n",
    "Person.name = \"코딩\"\n",
    "Person1.hello() "
   ]
  },
  {
   "cell_type": "code",
   "execution_count": 16,
   "metadata": {},
   "outputs": [
    {
     "name": "stdout",
     "output_type": "stream",
     "text": [
      "한글이름: 쿠키\n",
      "색깔 brown\n",
      "나이: 4\n"
     ]
    },
    {
     "data": {
      "text/plain": [
       "<bound method Snail.speed of <__main__.Snail object at 0x000001B6491737D0>>"
      ]
     },
     "execution_count": 16,
     "metadata": {},
     "output_type": "execute_result"
    }
   ],
   "source": [
    "class Snail:\n",
    "    kor_name=\"쿠키\"\n",
    "    color = \"brown\"\n",
    "    age = 4\n",
    "\n",
    "    def smell(self):\n",
    "        print(\"no\")\n",
    "    def speed(self):\n",
    "        print(\"느리다\")\n",
    "\n",
    "mysnail = Snail()\n",
    "\n",
    "print(\"한글이름:\",mysnail.kor_name)\n",
    "print(\"색깔\",mysnail.color)\n",
    "print(\"나이:\",mysnail.age)\n",
    "\n",
    "mysnail.smell\n",
    "mysnail.speed\n",
    "\n"
   ]
  },
  {
   "cell_type": "code",
   "execution_count": 20,
   "metadata": {},
   "outputs": [
    {
     "name": "stdout",
     "output_type": "stream",
     "text": [
      "이름: 유재석\n",
      "이름: 김종국\n",
      "이름: 하리보\n"
     ]
    }
   ],
   "source": [
    "class Members:\n",
    "    def set_info(self,name):   #set_info 메소드\n",
    "        self.name = name  #                 통로역할\n",
    "    def show_info(self): #\n",
    "       print(\"이름:\",self.name) #화면출력역할\n",
    " \n",
    "member1=Members()\n",
    "member1.set_info(\"유재석\")\n",
    "member1.show_info()\n",
    "\n",
    "member2=Members()\n",
    "member2.set_info(\"김종국\")\n",
    "member2.show_info()\n",
    "\n",
    "member3=Members()33333\n",
    "member3.set_info(\"하리보\")\n",
    "member3.show_info()\n",
    "\n"
   ]
  },
  {
   "cell_type": "code",
   "execution_count": 21,
   "metadata": {},
   "outputs": [
    {
     "name": "stdout",
     "output_type": "stream",
     "text": [
      "자동차1 의 색상은 빨강이며, 현재속도는 30km입니다.\n",
      "자동차2 의 색상은 파랑이며, 현재속도는 60km입니다.\n",
      "자동차3 의 색상은 노랑이며, 현재속도는 0km입니다.\n"
     ]
    }
   ],
   "source": [
    "class Car : \n",
    "    color = \" \"\n",
    "    speed = 0\n",
    "\n",
    "    def upspeed(self,value) : \n",
    "        self.speed += value\n",
    "\n",
    "    def downspeed(self,value) :\n",
    "        self.speed -= value\n",
    "\n",
    "mycar1 = Car()\n",
    "mycar1.color = \"빨강\"\n",
    "mycar1.speed = 0\n",
    "\n",
    "mycar2 = Car()\n",
    "mycar2.color = \"파랑\"\n",
    "mycar2.speed = 0\n",
    "\n",
    "mycar3 = Car()\n",
    "mycar3.color = \"노랑\"\n",
    "mycar3.speed = 0\n",
    "\n",
    "mycar1.upspeed(30)\n",
    "print(\"자동차1 의 색상은 %s이며, 현재속도는 %dkm입니다.\" %(mycar1.color,mycar1.speed))\n",
    "\n",
    "mycar2.upspeed(60)\n",
    "print(\"자동차2 의 색상은 %s이며, 현재속도는 %dkm입니다.\" %(mycar2.color,mycar2.speed))\n",
    "\n",
    "mycar3.upspeed(0)\n",
    "print(\"자동차3 의 색상은 %s이며, 현재속도는 %dkm입니다.\" %(mycar3.color,mycar3.speed))\n"
   ]
  },
  {
   "cell_type": "code",
   "execution_count": 22,
   "metadata": {},
   "outputs": [],
   "source": [
    "class Car : \n",
    "    color = \" \"\n",
    "    speed = 0\n",
    "\n",
    "    \n",
    "    def __init__(self,value1,value2):\n",
    "        self.color = value1\n",
    "        self.speed = value2\n",
    "\n",
    "    def upspeed(self,value) : \n",
    "        self.speed += value\n",
    "\n",
    "    def downspeed(self,value) :\n",
    "        self.speed -= value\n",
    "\n",
    "mycar1 = Car(\"빨강\",30)\n",
    "mycar2 = Car(\"파랑\",60)\n",
    "mycar3 = Car(\"노랑\",0)\n",
    "\n",
    "print(\"자동차1 의 색상은 %s이며, 현재속도는 %dkm입니다.\" %(mycar1.color,mycar1.speed))\n",
    "print(\"자동차2 의 색상은 %s이며, 현재속도는 %dkm입니다.\" %(mycar2.color,mycar2.speed))\n",
    "print(\"자동차3 의 색상은 %s이며, 현재속도는 %dkm입니다.\" %(mycar3.color,mycar3.speed))"
   ]
  },
  {
   "cell_type": "markdown",
   "metadata": {},
   "source": [
    "문제 1\n",
    "반지름 입력\n",
    "반지름\n",
    "원의 면적"
   ]
  },
  {
   "cell_type": "code",
   "execution_count": 30,
   "metadata": {},
   "outputs": [
    {
     "name": "stdout",
     "output_type": "stream",
     "text": [
      "반지름:10\n",
      "원의 면적:314.159265\n"
     ]
    }
   ],
   "source": [
    "import math\n",
    "\n",
    "class Circle : \n",
    "    def __init__ (self,r):\n",
    "        self.r = r\n",
    "    def get_area(self):\n",
    "        result = math.pi * self.r*self.r\n",
    "        return result\n",
    "    \n",
    "radus = float(input(\"반지름을 입력하세요: \"))\n",
    "Circle1 = Circle(radus)\n",
    "\n",
    "print(\"반지름:%d\" %radus )\n",
    "print(\"원의 면적:%2f\" %Circle1.get_area()) #매개변수 self 객체에서 메소드 호출 시 객체를 전달받는 역할"
   ]
  },
  {
   "cell_type": "code",
   "execution_count": 31,
   "metadata": {},
   "outputs": [
    {
     "name": "stdout",
     "output_type": "stream",
     "text": [
      "이름:홍길동,전화번호:010-....-....\n",
      "이름:김동욱,전화번호:010-....-....\n",
      "이름:이코코,전화번호:010-....-....\n",
      "총 회원수: 3\n"
     ]
    }
   ],
   "source": [
    "class Members:\n",
    "    total = 0\n",
    "\n",
    "    def __init__(self,name,phone):\n",
    "        self.name = name\n",
    "        self.phone = phone\n",
    "        Members.total = Members.total+1\n",
    "\n",
    "    def show_info(self):\n",
    "        print(\"이름:%s,전화번호:%s\" %(self.name,self.phone))\n",
    "\n",
    "m1 = Members(\"홍길동\",\"010-....-....\")\n",
    "m2 = Members(\"김동욱\",\"010-....-....\")\n",
    "m3 = Members(\"이코코\",\"010-....-....\")\n",
    "\n",
    "m1.show_info()\n",
    "m2.show_info()\n",
    "m3.show_info()\n",
    "0000.\n",
    "0print(\"총 회원수:\",Members.total)"
   ]
  },
  {
   "cell_type": "code",
   "execution_count": null,
   "metadata": {},
   "outputs": [],
   "source": [
    "0"
   ]
  }
 ],
 "metadata": {
  "kernelspec": {
   "display_name": "base",
   "language": "python",
   "name": "python3"
  },
  "language_info": {
   "codemirror_mode": {
    "name": "ipython",
    "version": 3
   },
   "file_extension": ".py",
   "mimetype": "text/x-python",
   "name": "python",
   "nbconvert_exporter": "python",
   "pygments_lexer": "ipython3",
   "version": "3.11.5"
  }
 },
 "nbformat": 4,
 "nbformat_minor": 2
}
