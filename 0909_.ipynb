{
 "cells": [
  {
   "cell_type": "code",
   "execution_count": 3,
   "metadata": {},
   "outputs": [
    {
     "name": "stdout",
     "output_type": "stream",
     "text": [
      "hello\n",
      "True\n",
      "['영어', '수학', '사회', '한국사']\n",
      "['영어', '수학']\n",
      "['국어', '영어', '수학', '사회', '한국사']\n",
      "['영어', '수학', '사회']\n",
      "['한국사', '사회', '수학', '영어', '국어']\n",
      "3\n"
     ]
    }
   ],
   "source": [
    "list1 = [1,5.5,True,'hello']\n",
    "print(list1[3])\n",
    "print(list1[-2])\n",
    "\n",
    "str_list=['국어','영어','수학','사회','한국사',]\n",
    "\n",
    "print(str_list[1:])\n",
    "print(str_list[1:3])\n",
    "print(str_list[:])\n",
    "print(str_list[1:4])\n",
    "print(str_list[::-1])\n",
    "\n",
    "if '사회' in str_list:\n",
    "    print(str_list.index(\"사회\"))"
   ]
  },
  {
   "cell_type": "code",
   "execution_count": 6,
   "metadata": {},
   "outputs": [
    {
     "name": "stdout",
     "output_type": "stream",
     "text": [
      "1\n",
      "['a', ['x', 'y']]\n",
      "y\n",
      "x\n"
     ]
    }
   ],
   "source": [
    "list2 = [1,'a',['x','y'],'b',2]\n",
    "print(list1[0])\n",
    "print(list2[1:3])\n",
    "print(list2[2][1])\n",
    "print(list2[2][0])"
   ]
  },
  {
   "cell_type": "code",
   "execution_count": 7,
   "metadata": {},
   "outputs": [
    {
     "name": "stdout",
     "output_type": "stream",
     "text": [
      "[1, 2, 3, 7, 9]\n",
      "[9, 7, 3, 2, 1]\n",
      "9\n"
     ]
    }
   ],
   "source": [
    "list3 = [1,3,7,9,2]\n",
    "list3.sort()\n",
    "print(list3)\n",
    "list3.sort(reverse=True)\n",
    "print(list3)\n",
    "print(max(list3))"
   ]
  },
  {
   "cell_type": "code",
   "execution_count": 8,
   "metadata": {},
   "outputs": [
    {
     "name": "stdout",
     "output_type": "stream",
     "text": [
      "[10, 40, 50, 70, 90, 90]\n",
      "[90, 90, 70, 50, 40, 10]\n",
      "10\n"
     ]
    }
   ],
   "source": [
    "list4 = [10,90,70,50,40,90]\n",
    "print(sorted(list4))\n",
    "print(sorted(list4,reverse=True))\n",
    "print(min(list4))"
   ]
  },
  {
   "cell_type": "code",
   "execution_count": 9,
   "metadata": {},
   "outputs": [
    {
     "name": "stdout",
     "output_type": "stream",
     "text": [
      "[1, 2, 3, 4, 5, 6, 7, 8, 9, 10]\n",
      "[1, 2, 3, 4, 5, 6]\n",
      "[]\n"
     ]
    }
   ],
   "source": [
    "list1 = [1,2,3,4,5]\n",
    "list1.append(6)\n",
    "list1.insert(6,7)\n",
    "list1.extend([8,9])\n",
    "list1.append(10)\n",
    "print(list1)\n",
    "\n",
    "list2=list1\n",
    "list2.pop()\n",
    "list2.pop(-1)\n",
    "list2.pop(7)\n",
    "list2.remove(7)\n",
    "print(list2)\n",
    "list2.clear()\n",
    "print(list2)\n"
   ]
  },
  {
   "cell_type": "code",
   "execution_count": 21,
   "metadata": {},
   "outputs": [
    {
     "name": "stdout",
     "output_type": "stream",
     "text": [
      "10\n",
      "50\n",
      "[20, 30, 40]\n",
      "[10, 20, 25, 30, 40, 50, 60]\n",
      "[10, 20, 25, 30]\n"
     ]
    }
   ],
   "source": [
    "numbers = [10,20,30,40,50]\n",
    "print(numbers[0])\n",
    "print(numbers[-1])\n",
    "print(numbers[1:4]) #두번째 에서 4번째요소 출력\n",
    "\n",
    "numbers.append(60)\n",
    "numbers.insert(2,25)\n",
    "print(numbers)\n",
    "\n",
    "del numbers[4:]\n",
    "print(numbers)\n"
   ]
  },
  {
   "cell_type": "code",
   "execution_count": 22,
   "metadata": {},
   "outputs": [
    {
     "name": "stdout",
     "output_type": "stream",
     "text": [
      "(1, 2, 3, 4, 5)\n",
      "('bat', 'cat', 'hat')\n"
     ]
    }
   ],
   "source": [
    "# 튜플\n",
    "number_tuple = 1,2,3,4,5\n",
    "string_tuple = \"bat\",\"cat\",\"hat\"\n",
    "print(number_tuple)\n",
    "print(string_tuple)"
   ]
  },
  {
   "cell_type": "code",
   "execution_count": 26,
   "metadata": {},
   "outputs": [
    {
     "name": "stdout",
     "output_type": "stream",
     "text": [
      "10\n",
      "(30, 40)\n",
      "40\n",
      "50\n",
      "('파이썬', '자바')\n",
      "('파이썬', '자바', 'jsp')\n",
      "('c언어', '파이썬')\n",
      "('c언어', '자바')\n"
     ]
    }
   ],
   "source": [
    "tup1 = (10,20,(30,40),50)\n",
    "tup2 = (\"c언어\",\"파이썬\",\"자바\",\"jsp\")\n",
    "\n",
    "print(tup1[0])\n",
    "print(tup1[2])\n",
    "print(tup1[2][1])\n",
    "print(tup1[3])\n",
    "\n",
    "print(tup2[1:3])\n",
    "print(tup2[1:])\n",
    "print(tup2[:2])\n",
    "print(tup2[::2])\n",
    "\n",
    "\n"
   ]
  },
  {
   "cell_type": "code",
   "execution_count": 28,
   "metadata": {},
   "outputs": [
    {
     "name": "stdout",
     "output_type": "stream",
     "text": [
      "봄\n",
      "겨울\n",
      "('여름', '가을', '겨울')\n",
      "사계절: ('봄', '여름', '가을', '겨울')\n",
      "사계절_가나다순: ['가을', '겨울', '봄', '여름']\n"
     ]
    }
   ],
   "source": [
    "사계절 = ('봄','여름','가을','겨울')\n",
    "print(사계절[0])\n",
    "print(사계절[3]) #마지막요소\n",
    "print(사계절[1:4])\n",
    "사계절_가나다순 = sorted(사계절)\n",
    "\n",
    "print(\"사계절:\",사계절)\n",
    "print(\"사계절_가나다순:\",사계절_가나다순) "
   ]
  },
  {
   "cell_type": "code",
   "execution_count": null,
   "metadata": {},
   "outputs": [
    {
     "name": "stdout",
     "output_type": "stream",
     "text": [
      "3.3333333333333335\n",
      "3\n"
     ]
    }
   ],
   "source": []
  }
 ],
 "metadata": {
  "kernelspec": {
   "display_name": "base",
   "language": "python",
   "name": "python3"
  },
  "language_info": {
   "codemirror_mode": {
    "name": "ipython",
    "version": 3
   },
   "file_extension": ".py",
   "mimetype": "text/x-python",
   "name": "python",
   "nbconvert_exporter": "python",
   "pygments_lexer": "ipython3",
   "version": "3.11.5"
  }
 },
 "nbformat": 4,
 "nbformat_minor": 2
}
