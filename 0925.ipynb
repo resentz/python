{
 "cells": [
  {
   "cell_type": "code",
   "execution_count": 3,
   "metadata": {},
   "outputs": [
    {
     "name": "stdout",
     "output_type": "stream",
     "text": [
      "아스키 코드: 49\n"
     ]
    }
   ],
   "source": [
    "x='1'\n",
    "print(\"아스키 코드:\",ord(x))"
   ]
  },
  {
   "cell_type": "code",
   "execution_count": 2,
   "metadata": {},
   "outputs": [
    {
     "name": "stdout",
     "output_type": "stream",
     "text": [
      "49\n",
      "0b1100001\n",
      "0x61\n"
     ]
    }
   ],
   "source": [
    "x = \"1\"\n",
    "print(ord(x))\n",
    "\n",
    "y=\"a\"\n",
    "code = ord(y)\n",
    "print(bin(code))\n",
    "print(hex(code))"
   ]
  },
  {
   "cell_type": "code",
   "execution_count": 3,
   "metadata": {},
   "outputs": [],
   "source": [
    "def square_sum(n):                 #지역변수\n",
    "    sm=0 \n",
    "    for i in range(1,n+1):\n",
    "        sm = sm + (i*i*i)\n",
    "        return sm\n",
    "\n",
    "    N = int(input(\"N의 값을 입력하시오:\"))\n",
    "    print(square_sum(N))            "
   ]
  },
  {
   "cell_type": "code",
   "execution_count": 8,
   "metadata": {},
   "outputs": [
    {
     "name": "stdout",
     "output_type": "stream",
     "text": [
      "225\n"
     ]
    }
   ],
   "source": [
    "def square_sum(n):                 #지역변수\n",
    "    sm=0 \n",
    "    for i in range(1,n+1):\n",
    "        \n",
    "\n",
    "        sm = sm + (i*i*i)\n",
    "\n",
    "    return sm\n",
    "\n",
    "N = int(input(\"N의 값을 입력하시오:\"))\n",
    "print(square_sum(N))"
   ]
  },
  {
   "cell_type": "code",
   "execution_count": 9,
   "metadata": {},
   "outputs": [
    {
     "name": "stdout",
     "output_type": "stream",
     "text": [
      "1*1*1+2*2*2+3*3*3+4*4*4+5*5*5=225\n",
      "None\n"
     ]
    }
   ],
   "source": [
    "def square_sum(n):                 #지역변수\n",
    "    sm=0 \n",
    "    for i in range(1,n+1):\n",
    "        sm = sm + (i*i*i)\n",
    "        print(\"%d*%d*%d\"%(i,i,i),end=\"\")\n",
    "        if i==n:\n",
    "            print(\"=\",end=\"\")\n",
    "        else:\n",
    "            print(\"+\",end=\"\")    \n",
    "    print(sm)        \n",
    "\n",
    "N = int(input(\"N의 값을 입력하시오:\"))\n",
    "print(square_sum(N))"
   ]
  },
  {
   "cell_type": "code",
   "execution_count": 12,
   "metadata": {},
   "outputs": [
    {
     "name": "stdout",
     "output_type": "stream",
     "text": [
      "문장: A good book is a great friend\n",
      "찾는 단어: friend\n",
      "friend는 존재한다\n"
     ]
    }
   ],
   "source": [
    "def eng_sen(s,keyword):\n",
    "    if(s.find(keyword)==-1):\n",
    "        print(\"%s는 존재하지 않는다\"%keyword)\n",
    "    else:\n",
    "        print(\"%s는 존재한다\"%keyword)\n",
    "\n",
    "string = 'A good book is a great friend'\n",
    "word= 'friend'\n",
    "\n",
    "print(\"문장:\",string)\n",
    "print(\"찾는 단어:\",word)\n",
    "\n",
    "eng_sen(string,word)"
   ]
  },
  {
   "cell_type": "code",
   "execution_count": 16,
   "metadata": {},
   "outputs": [
    {
     "name": "stdout",
     "output_type": "stream",
     "text": [
      "5는 홀수입니다\n",
      "None\n"
     ]
    }
   ],
   "source": [
    "def num_ber(a):\n",
    "    if a % 2==0 :\n",
    "        print(\"%a는 짝수입니다\"%a)\n",
    "    else:\n",
    "        print(\"%a는 홀수입니다\"%a)    \n",
    "\n",
    "Num = int(input(\"수를 입력하시오\"))\n",
    "print(num_ber(Num))"
   ]
  },
  {
   "cell_type": "code",
   "execution_count": 18,
   "metadata": {},
   "outputs": [
    {
     "name": "stdout",
     "output_type": "stream",
     "text": [
      "1에서 1000까지의 수 총 5의 배수 합계:100500\n"
     ]
    }
   ],
   "source": [
    "def sum_multiples(n):\n",
    "    sum = 0\n",
    "    for i in range(1,1001):\n",
    "        if i % n ==0:\n",
    "            sum = sum+i\n",
    "    return sum\n",
    "        \n",
    "N = int(input(\"n값을 입력하세요:\"))\n",
    "result= sum_multiples(N)\n",
    "print(\"1에서 1000까지의 수 총 %d의 배수 합계:%d\"%(N,result))"
   ]
  },
  {
   "cell_type": "code",
   "execution_count": null,
   "metadata": {},
   "outputs": [],
   "source": [
    "def get_mult(list):\n",
    "    list2 = []\n",
    "    for "
   ]
  }
 ],
 "metadata": {
  "kernelspec": {
   "display_name": "base",
   "language": "python",
   "name": "python3"
  },
  "language_info": {
   "codemirror_mode": {
    "name": "ipython",
    "version": 3
   },
   "file_extension": ".py",
   "mimetype": "text/x-python",
   "name": "python",
   "nbconvert_exporter": "python",
   "pygments_lexer": "ipython3",
   "version": "3.11.5"
  }
 },
 "nbformat": 4,
 "nbformat_minor": 2
}
